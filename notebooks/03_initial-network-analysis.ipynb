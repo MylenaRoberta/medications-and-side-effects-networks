{
 "cells": [
  {
   "cell_type": "code",
   "execution_count": 1,
   "id": "070a663f",
   "metadata": {},
   "outputs": [],
   "source": [
    "import pandas as pd\n",
    "import networkx as nx"
   ]
  },
  {
   "cell_type": "code",
   "execution_count": 2,
   "id": "26bebfc0",
   "metadata": {},
   "outputs": [],
   "source": [
    "bipartite_df = pd.read_csv('../data/processed/bipartite-network-edges.csv')\n",
    "bipartite_graph = nx.from_pandas_edgelist(bipartite_df, 'source', 'target')"
   ]
  },
  {
   "cell_type": "code",
   "execution_count": 3,
   "id": "0ad07735",
   "metadata": {},
   "outputs": [
    {
     "name": "stdout",
     "output_type": "stream",
     "text": [
      "Number of nodes: 231660\n",
      "Number of edges: 1506044\n",
      "Number of connected components: 10\n",
      "Degree distribution statistics:\n",
      "count    231660.000000\n",
      "mean         13.002193\n",
      "std         562.660740\n",
      "min           1.000000\n",
      "25%           4.000000\n",
      "50%           6.000000\n",
      "75%           8.000000\n",
      "max      145675.000000\n",
      "dtype: float64\n",
      "Top 5 nodes by degree: [145675, 128702, 93113, 92904, 68533]\n"
     ]
    }
   ],
   "source": [
    "# Analyze the bipartite graph\n",
    "print(f\"Number of nodes: {bipartite_graph.number_of_nodes()}\")\n",
    "print(f\"Number of edges: {bipartite_graph.number_of_edges()}\")\n",
    "\n",
    "# Connected components\n",
    "connected_components = list(nx.connected_components(bipartite_graph))\n",
    "print(f\"Number of connected components: {len(connected_components)}\")\n",
    "\n",
    "# Degree distribution\n",
    "degrees = sorted((d for n, d in bipartite_graph.degree()), reverse=True)\n",
    "degree_series = pd.Series(degrees)\n",
    "print(\"Degree distribution statistics:\")\n",
    "print(degree_series.describe())\n",
    "\n",
    "print(f\"Top 5 nodes by degree: {degrees[:5]}\")"
   ]
  },
  {
   "cell_type": "code",
   "execution_count": null,
   "id": "5d5a241f",
   "metadata": {},
   "outputs": [],
   "source": [
    "# Advanced metrics\n",
    "\n",
    "print(f\"Average clustering coefficient: {nx.average_clustering(bipartite_graph)}\")\n",
    "print(f\"Diameter of the largest connected component: {nx.diameter(bipartite_graph.subgraph(max(connected_components, key=len)))}\")\n",
    "\n",
    "# Betweenness centrality\n",
    "betweenness = nx.betweenness_centrality(bipartite_graph)\n",
    "top_betweenness = sorted(betweenness.items(), key=lambda x: x[1], reverse=True)[:5]\n",
    "print(\"Top 5 nodes by betweenness centrality:\")\n",
    "for node, centrality in top_betweenness:    \n",
    "    print(f\"Node: {node}, Betweenness Centrality: {centrality:.4f}\")\n"
   ]
  },
  {
   "cell_type": "code",
   "execution_count": null,
   "id": "5dee3a56",
   "metadata": {},
   "outputs": [],
   "source": [
    "import nx_parallel as nxp\n",
    "\n",
    "# Create a parallel bipartite graph from the original bipartite graph\n",
    "parallel_bipartite_graph = nxp.ParallelGraph(bipartite_graph)\n",
    "\n",
    "# Advanced metrics using parallel processing\n",
    "\n",
    "# Average clustering coefficient\n",
    "# avg_clustering_parallel = nx.average_clustering(parallel_bipartite_graph, backend=\"parallel\")\n",
    "# print(f\"Average clustering coefficient (parallel): {avg_clustering_parallel}\")\n",
    "\n",
    "# Diameter of the largest connected component\n",
    "# largest_cc = max(nx.connected_components(parallel_bipartite_graph), key=len)\n",
    "# diameter_parallel = nxp.diameter(parallel_bipartite_graph.subgraph(largest_cc))\n",
    "# print(f\"Diameter of the largest connected component (parallel): {diameter_parallel}\")\n",
    "\n",
    "# print(f\"Diameter of the largest connected component: {nx.diameter(bipartite_graph.subgraph(max(connected_components, key=len)))}\")\n",
    "\n",
    "# Betweenness centrality\n",
    "betweenness_parallel = nxp.betweenness_centrality(parallel_bipartite_graph)\n",
    "top_betweenness_parallel = sorted(betweenness_parallel.items(), key=lambda x: x[1], reverse=True)[:5]\n",
    "print(\"Top 5 nodes by betweenness centrality (parallel):\")\n",
    "for node, centrality in top_betweenness_parallel:       \n",
    "    print(f\"Node: {node}, Betweenness Centrality: {centrality:.4f}\")"
   ]
  },
  {
   "cell_type": "code",
   "execution_count": 4,
   "id": "af72e084",
   "metadata": {},
   "outputs": [],
   "source": [
    "import nx_cugraph as nxcg\n",
    "\n",
    "# Create a cuGraph bipartite graph from the original bipartite graph\n",
    "gpu_bipartite_graph = nxcg.from_networkx(bipartite_graph)\n",
    "\n",
    "# Betweenness centrality using GPU acceleration\n",
    "# betweenness_gpu = nxcg.betweenness_centrality(gpu_bipartite_graph, normalized=True)\n",
    "# top_betweenness_gpu = sorted(betweenness_gpu.items(), key=lambda x: x[1], reverse=True)[:5]\n",
    "# print(\"Top 5 nodes by betweenness centrality (GPU):\")\n",
    "# for node, centrality in top_betweenness_gpu:\n",
    "#     print(f\"Node: {node}, Betweenness Centrality: {centrality:.4f}\")"
   ]
  },
  {
   "cell_type": "code",
   "execution_count": null,
   "id": "c05d62d9",
   "metadata": {},
   "outputs": [],
   "source": [
    "\n",
    "import nx_parallel as nxp\n",
    "# Create a parallel bipartite graph from the original bipartite graph\n",
    "parallel_bipartite_graph = nxp.ParallelGraph(bipartite_graph)\n",
    "\n",
    "# Jaccard coefficient using NetworkX\n",
    "jaccard_coeffs = list(nx.jaccard_coefficient(bipartite_graph))\n",
    "top_jaccard = sorted(jaccard_coeffs, key=lambda x: x[2], reverse=True)[:5]\n",
    "print(\"Top 5 node pairs by Jaccard coefficient:\")\n",
    "for u, v, coeff in top_jaccard:\n",
    "    print(f\"Nodes: ({u}, {v}), Jaccard Coefficient: {coeff:.4f}\")"
   ]
  }
 ],
 "metadata": {
  "kernelspec": {
   "display_name": ".venv (3.13.7)",
   "language": "python",
   "name": "python3"
  },
  "language_info": {
   "codemirror_mode": {
    "name": "ipython",
    "version": 3
   },
   "file_extension": ".py",
   "mimetype": "text/x-python",
   "name": "python",
   "nbconvert_exporter": "python",
   "pygments_lexer": "ipython3",
   "version": "3.13.7"
  }
 },
 "nbformat": 4,
 "nbformat_minor": 5
}
